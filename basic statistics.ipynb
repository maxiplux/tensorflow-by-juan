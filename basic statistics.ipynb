{
 "cells": [
  {
   "cell_type": "code",
   "execution_count": null,
   "metadata": {
    "ExecuteTime": {
     "end_time": "2023-04-22T13:15:02.503247Z",
     "start_time": "2023-04-22T13:15:02.499445Z"
    }
   },
   "outputs": [],
   "source": []
  },
  {
   "cell_type": "code",
   "execution_count": 14,
   "metadata": {
    "ExecuteTime": {
     "end_time": "2023-04-22T13:15:04.569849Z",
     "start_time": "2023-04-22T13:15:02.504831Z"
    }
   },
   "outputs": [
    {
     "name": "stdout",
     "output_type": "stream",
     "text": [
      "Requirement already satisfied: pandas in /Users/juanfmosquera/anaconda3/envs/scientificProject/lib/python3.10/site-packages (2.0.0)\n",
      "Requirement already satisfied: tzdata>=2022.1 in /Users/juanfmosquera/anaconda3/envs/scientificProject/lib/python3.10/site-packages (from pandas) (2023.3)\n",
      "Requirement already satisfied: python-dateutil>=2.8.2 in /Users/juanfmosquera/anaconda3/envs/scientificProject/lib/python3.10/site-packages (from pandas) (2.8.2)\n",
      "Requirement already satisfied: numpy>=1.21.0 in /Users/juanfmosquera/anaconda3/envs/scientificProject/lib/python3.10/site-packages (from pandas) (1.24.2)\n",
      "Requirement already satisfied: pytz>=2020.1 in /Users/juanfmosquera/anaconda3/envs/scientificProject/lib/python3.10/site-packages (from pandas) (2022.7)\n",
      "Requirement already satisfied: six>=1.5 in /Users/juanfmosquera/anaconda3/envs/scientificProject/lib/python3.10/site-packages (from python-dateutil>=2.8.2->pandas) (1.16.0)\n",
      "Requirement already satisfied: numpy in /Users/juanfmosquera/anaconda3/envs/scientificProject/lib/python3.10/site-packages (1.24.2)\n"
     ]
    }
   ],
   "source": [
    "!pip install pandas\n",
    "!pip install numpy"
   ]
  },
  {
   "cell_type": "code",
   "execution_count": 15,
   "metadata": {
    "ExecuteTime": {
     "end_time": "2023-04-22T13:15:12.820110Z",
     "start_time": "2023-04-22T13:15:12.817311Z"
    }
   },
   "outputs": [],
   "source": [
    "import numpy as np\n",
    "import pandas as pd"
   ]
  },
  {
   "cell_type": "code",
   "execution_count": 7,
   "metadata": {
    "ExecuteTime": {
     "end_time": "2023-04-22T13:15:48.730923Z",
     "start_time": "2023-04-22T13:15:48.721254Z"
    }
   },
   "outputs": [],
   "source": [
    "data = {'Género': ['M', 'F', 'M', 'F', 'M', 'M', 'F', 'M', 'F', 'M']*10}\n",
    "df = pd.DataFrame(data)"
   ]
  },
  {
   "cell_type": "code",
   "execution_count": 8,
   "metadata": {
    "ExecuteTime": {
     "end_time": "2023-04-22T13:16:19.310948Z",
     "start_time": "2023-04-22T13:16:19.298416Z"
    }
   },
   "outputs": [
    {
     "name": "stdout",
     "output_type": "stream",
     "text": [
      "Probabilidad de que un estudiante sea mujer: 0.4\n"
     ]
    }
   ],
   "source": [
    "probabilidad_femenina = df[df['Género'] == 'F'].count() / len(df)\n",
    "print(f\"Probabilidad de que un estudiante sea mujer: {probabilidad_femenina.values[0]}\")\n"
   ]
  },
  {
   "cell_type": "code",
   "execution_count": 19,
   "metadata": {
    "ExecuteTime": {
     "start_time": "2023-04-22T13:39:16.919801Z",
     "end_time": "2023-04-22T13:39:16.928615Z"
    }
   },
   "outputs": [],
   "source": [
    "data = {'Género': ['M', 'F', 'M', 'F', 'M', 'M', 'F', 'M', 'F', 'M']*10,\n",
    "        'Gafas': ['Sí', 'No', 'Sí', 'No', 'Sí', 'No', 'Sí', 'No', 'Sí', 'No']*10}\n",
    "df = pd.DataFrame(data)\n"
   ]
  },
  {
   "cell_type": "code",
   "execution_count": 20,
   "metadata": {
    "ExecuteTime": {
     "start_time": "2023-04-22T13:39:17.507868Z",
     "end_time": "2023-04-22T13:39:17.512067Z"
    }
   },
   "outputs": [
    {
     "data": {
      "text/plain": "  Género Gafas\n0      M    Sí\n1      F    No\n2      M    Sí\n3      F    No\n4      M    Sí",
      "text/html": "<div>\n<style scoped>\n    .dataframe tbody tr th:only-of-type {\n        vertical-align: middle;\n    }\n\n    .dataframe tbody tr th {\n        vertical-align: top;\n    }\n\n    .dataframe thead th {\n        text-align: right;\n    }\n</style>\n<table border=\"1\" class=\"dataframe\">\n  <thead>\n    <tr style=\"text-align: right;\">\n      <th></th>\n      <th>Género</th>\n      <th>Gafas</th>\n    </tr>\n  </thead>\n  <tbody>\n    <tr>\n      <th>0</th>\n      <td>M</td>\n      <td>Sí</td>\n    </tr>\n    <tr>\n      <th>1</th>\n      <td>F</td>\n      <td>No</td>\n    </tr>\n    <tr>\n      <th>2</th>\n      <td>M</td>\n      <td>Sí</td>\n    </tr>\n    <tr>\n      <th>3</th>\n      <td>F</td>\n      <td>No</td>\n    </tr>\n    <tr>\n      <th>4</th>\n      <td>M</td>\n      <td>Sí</td>\n    </tr>\n  </tbody>\n</table>\n</div>"
     },
     "execution_count": 20,
     "metadata": {},
     "output_type": "execute_result"
    }
   ],
   "source": [
    "df.head()"
   ]
  },
  {
   "cell_type": "code",
   "execution_count": 21,
   "metadata": {
    "ExecuteTime": {
     "start_time": "2023-04-22T13:39:22.546093Z",
     "end_time": "2023-04-22T13:39:22.549011Z"
    }
   },
   "outputs": [
    {
     "name": "stdout",
     "output_type": "stream",
     "text": [
      "Probabilidad conjunta de que un estudiante sea mujer y lleve gafas: 0.2\n"
     ]
    }
   ],
   "source": [
    "probabilidad_femenina_gafas = len(df[(df['Género'] == 'F') & (df['Gafas'] == 'Sí')]) / len(df)\n",
    "print(f\"Probabilidad conjunta de que un estudiante sea mujer y lleve gafas: {probabilidad_femenina_gafas}\")\n",
    "\n"
   ]
  },
  {
   "cell_type": "code",
   "execution_count": null,
   "outputs": [],
   "source": [],
   "metadata": {
    "collapsed": false
   }
  }
 ],
 "metadata": {
  "kernelspec": {
   "display_name": "Python 3 (ipykernel)",
   "language": "python",
   "name": "python3"
  },
  "language_info": {
   "codemirror_mode": {
    "name": "ipython",
    "version": 3
   },
   "file_extension": ".py",
   "mimetype": "text/x-python",
   "name": "python",
   "nbconvert_exporter": "python",
   "pygments_lexer": "ipython3",
   "version": "3.10.11"
  }
 },
 "nbformat": 4,
 "nbformat_minor": 1
}
